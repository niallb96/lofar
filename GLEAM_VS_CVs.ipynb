{
 "cells": [
  {
   "cell_type": "code",
   "execution_count": 20,
   "metadata": {
    "collapsed": false
   },
   "outputs": [],
   "source": [
    "import matplotlib.pyplot as plt \n",
    "import numpy as np\n",
    "import matplotlib\n",
    "import astropy.units as u\n",
    "import astropy.coordinates as coord\n",
    "from astroquery.vizier import Vizier\n",
    "%matplotlib inline\n",
    "from astropy.io import fits\n",
    "from astroquery.simbad import Simbad\n",
    "import matplotlib\n",
    "import aplpy\n",
    "from astroquery.sdss import SDSS\n",
    "from astropy.coordinates import Angle\n",
    "from array import array\n",
    "from wcsaxes import SphericalCircle\n",
    "from astropy.table import Table"
   ]
  },
  {
   "cell_type": "code",
   "execution_count": 21,
   "metadata": {
    "collapsed": false
   },
   "outputs": [],
   "source": [
    "#Region of Sky:\n",
    "\n",
    "RA=180\n",
    "DE=-35.85\n",
    "RA_length=180\n",
    "DE_length=54.15\n",
    "\n",
    "#Catalogues:\n",
    "\n",
    "First_Catalogue_Name='GLEAM'\n",
    "Second_Catalogue_Name='Downes+ 2001-2006'"
   ]
  },
  {
   "cell_type": "code",
   "execution_count": 22,
   "metadata": {
    "collapsed": false
   },
   "outputs": [],
   "source": [
    "# First_Catalogue_Data= Table.read('data/'+First_Catalogue_Name+'.fit', format='fits')\n",
    "# #print First_Catalogue_Data\n",
    "\n",
    "# Second_Catalogue_Data= Table.read('data/Downes.fit', format='fits')\n",
    "# #print Second_Catalogue_Data"
   ]
  },
  {
   "cell_type": "code",
   "execution_count": 23,
   "metadata": {
    "collapsed": true
   },
   "outputs": [],
   "source": [
    "# #First Catalogue:\n",
    "\n",
    "# #Making array of coords\n",
    "\n",
    "# RA_First=[]\n",
    "# for value in First_Catalogue_Data[\"_RAJ2000\"]:\n",
    "#     RA_First.append(value)\n",
    "# #print len(RA_First)\n",
    "# DE_First=[]\n",
    "# for value in First_Catalogue_Data[\"_DEJ2000\"]:\n",
    "#     DE_First.append(value)\n",
    "# #print len(DE_First)\n",
    "\n",
    "# #Error arrays:\n",
    "\n",
    "# RA_First_e=[]\n",
    "# for value in First_Catalogue_Data[\"e_RAJ2000\"]:\n",
    "#     RA_First_e.append(value/3600)\n",
    "# #print RA_First_e\n",
    "# DE_First_e=[]\n",
    "# for value in First_Catalogue_Data[\"e_RAJ2000\"]:\n",
    "#     DE_First_e.append(value/3600)\n",
    "# #print DE_First_e\n",
    "\n",
    "# #Second Catalogue\n",
    "\n",
    "# #Making array of coords\n",
    "\n",
    "# RA_Second=[]\n",
    "# n=0\n",
    "# while n<len(Second_Catalogue_Data[\"_RAJ2000\"]):\n",
    "#     if Second_Catalogue_Data['VarType'][n] != \"non-CV\":\n",
    "#         RA_Second.append(Second_Catalogue_Data[\"_RAJ2000\"][n])\n",
    "#     n=n+1\n",
    "# #print len(RA_Second)\n",
    "\n",
    "# DE_Second=[]\n",
    "# n=0\n",
    "# while n<len(Second_Catalogue_Data[\"_DEJ2000\"]):\n",
    "#     if Second_Catalogue_Data['VarType'][n] != \"non-CV\":\n",
    "#         DE_Second.append(Second_Catalogue_Data[\"_DEJ2000\"][n])\n",
    "#     n=n+1\n",
    "# #print len(RA_Second)"
   ]
  },
  {
   "cell_type": "code",
   "execution_count": 24,
   "metadata": {
    "collapsed": true
   },
   "outputs": [],
   "source": [
    "# #Getting data from first catalogue\n",
    "\n",
    "# Vizier.ROW_LIMIT = -1\n",
    "# First_Catalog_List = Vizier.find_catalogs(First_Catalogue_Name)\n",
    "# First_Catalogs = Vizier.get_catalogs(First_Catalog_List.keys())\n",
    "# First_Catalogue_Data=First_Catalogs[0]\n",
    "\n",
    "\n",
    "# #Getting data from second catalogue\n",
    "\n",
    "# Second_Catalog_List = Vizier.find_catalogs(Second_Catalogue_Name)\n",
    "# Second_Catalogs = Vizier.get_catalogs(Second_Catalog_List.keys())\n",
    "# Second_Catalogue_Data=Second_Catalogs[0]"
   ]
  },
  {
   "cell_type": "code",
   "execution_count": 25,
   "metadata": {
    "collapsed": false
   },
   "outputs": [],
   "source": [
    "#First Catalogue:\n",
    "\n",
    "#Making array of coords\n",
    "n=0\n",
    "RA_First=[]\n",
    "DE_First=[]\n",
    "Lum_First=[]\n",
    "RA_First_e=[]\n",
    "DE_First_e=[]\n",
    "Lum_First_e=[]\n",
    "while n< len(First_Catalogue_Data):\n",
    "    if RA-RA_length<First_Catalogue_Data[\"_RAJ2000\"][n] and First_Catalogue_Data[\"_RAJ2000\"][n]<RA+RA_length and DE-DE_length<First_Catalogue_Data[\"_DEJ2000\"][n] and First_Catalogue_Data[\"_DEJ2000\"][n]<DE+DE_length:\n",
    "        RA_First.append(First_Catalogue_Data[\"_RAJ2000\"][n])\n",
    "        DE_First.append(First_Catalogue_Data[\"_DEJ2000\"][n])\n",
    "        RA_First_e.append(First_Catalogue_Data[\"e_RAJ2000\"][n]/3600)\n",
    "        DE_First_e.append(First_Catalogue_Data[\"e_RAJ2000\"][n]/3600)\n",
    "    n=n+1\n",
    "#print len(DE_First)\n",
    "\n",
    "n=0\n",
    "RA_Second=[]\n",
    "DE_Second=[]\n",
    "Lum_Second=[]\n",
    "RA_Second_e=[]\n",
    "DE_Second_e=[]\n",
    "Lum_Second_e=[]\n",
    "while n< len(Second_Catalogue_Data):\n",
    "    if Second_Catalogue_Data['VarType'][n] != \"non-CV\":\n",
    "        if RA-RA_length<Second_Catalogue_Data[\"_RAJ2000\"][n] and Second_Catalogue_Data[\"_RAJ2000\"][n]<RA+RA_length and DE-DE_length<Second_Catalogue_Data[\"_DEJ2000\"][n] and Second_Catalogue_Data[\"_DEJ2000\"][n]<DE+DE_length:\n",
    "            RA_Second.append(Second_Catalogue_Data[\"_RAJ2000\"][n])\n",
    "            DE_Second.append(Second_Catalogue_Data[\"_DEJ2000\"][n])\n",
    "    n=n+1\n",
    "#print len(DE_Second)"
   ]
  },
  {
   "cell_type": "code",
   "execution_count": 26,
   "metadata": {
    "collapsed": false
   },
   "outputs": [
    {
     "data": {
      "image/png": "[encoded data removed]",
      "text/plain": [
       "<matplotlib.figure.Figure at 0x10c3cd550>"
      ]
     },
     "metadata": {},
     "output_type": "display_data"
    }
   ],
   "source": [
    "#Plotting coords of two arrays to compare\n",
    "\n",
    "fig = plt.figure()\n",
    "ax1 = fig.add_subplot(111)\n",
    "ax1.scatter(RA_First, DE_First, s=10, c='b', marker=\"s\", label=First_Catalogue_Name)\n",
    "ax1.scatter(RA_Second,DE_Second, s=10, c='r', marker=\"o\", label=Second_Catalogue_Name)\n",
    "plt.legend(loc='upper left');\n",
    "plt.show()"
   ]
  },
  {
   "cell_type": "code",
   "execution_count": 27,
   "metadata": {
    "collapsed": false
   },
   "outputs": [
    {
     "name": "stdout",
     "output_type": "stream",
     "text": [
      "1 :\n",
      "GLEAM  Coords: ( 358.582366944 , -47.0018769444 )\n",
      "Downes+ 2001-2006  Coords: ( 358.58525 , -47.0054722222 )\n",
      "\n",
      "2 :\n",
      "GLEAM  Coords: ( 316.987273889 , -5.299005 )\n",
      "Downes+ 2001-2006  Coords: ( 316.992583333 , -5.29447222222 )\n",
      "\n",
      "3 :\n",
      "GLEAM  Coords: ( 38.9185180556 , -13.3503861111 )\n",
      "Downes+ 2001-2006  Coords: ( 38.9185 , -13.3531944444 )\n",
      "\n",
      "4 :\n",
      "GLEAM  Coords: ( 81.86467 , -12.6957211111 )\n",
      "Downes+ 2001-2006  Coords: ( 81.8675 , -12.6973055556 )\n",
      "\n"
     ]
    }
   ],
   "source": [
    "#Finding data for all the stars that overlap\n",
    "\n",
    "#Set CV error:\n",
    "Second_e=20.0/3600.0\n",
    "\n",
    "RA_First_Relevant=[]\n",
    "RA_Second_Relevant=[]\n",
    "DE_First_Relevant=[]\n",
    "DE_Second_Relevant=[]\n",
    "f=0\n",
    "s=0\n",
    "n=0\n",
    "corr=0\n",
    "#While loop goes through all of first catalogue..\n",
    "while f<len(RA_First):\n",
    "    #If it compares a source in first catalogue to every source in second without finding one in common then..\n",
    "    if s>=len(RA_Second):\n",
    "        #It moves on to next source in first and..\n",
    "        f=f+1\n",
    "        #Starts comparing it to the first source in the second catalogue\n",
    "        s=0\n",
    "    #This is a formula for overlapping circles with the radii being the error\n",
    "    #If this is true catalogues have that star in common\n",
    "    elif RA_First_e[f]+Second_e>= abs(RA_First[f]-RA_Second[s]) and DE_First_e[f]+Second_e>= abs(DE_First[f]-DE_Second[s]):\n",
    "        #print coords and luminosity\n",
    "        print corr+1,\":\"\n",
    "        print First_Catalogue_Name,\" Coords: (\",RA_First[f],\",\",DE_First[f],\")\"\n",
    "        print Second_Catalogue_Name,\" Coords: (\",RA_Second[s],\",\",DE_Second[s],\")\"\n",
    "        print \"\"\n",
    "        #Making arrays of coordinates of sources in common \n",
    "        RA_First_Relevant.append(RA_First[s])\n",
    "        RA_Second_Relevant.append(RA_Second[s])\n",
    "        DE_First_Relevant.append(DE_First[s])\n",
    "        DE_Second_Relevant.append(DE_Second[s])\n",
    "        \n",
    "        #Move onto next source in first catalogue\n",
    "        f=f+1\n",
    "        #Starts comparing it to the first source in the second catalogue\n",
    "        s=0\n",
    "        #Number of common sources increased\n",
    "        corr=corr+1\n",
    "    #If neither of these are true then..\n",
    "    else:\n",
    "        #Try next source in second catalogue\n",
    "        s=s+1\n",
    "    #Before going onto next loop increase number of iterations\n",
    "    n=n+1"
   ]
  },
  {
   "cell_type": "code",
   "execution_count": 1,
   "metadata": {
    "collapsed": false
   },
   "outputs": [
    {
     "name": "stdout",
     "output_type": "stream",
     "text": [
      "Number of iterations:"
     ]
    },
    {
     "ename": "NameError",
     "evalue": "name 'n' is not defined",
     "output_type": "error",
     "traceback": [
      "\u001b[0;31m---------------------------------------------------------------------------\u001b[0m",
      "\u001b[0;31mNameError\u001b[0m                                 Traceback (most recent call last)",
      "\u001b[0;32m<ipython-input-1-f9bc7b788fe8>\u001b[0m in \u001b[0;36m<module>\u001b[0;34m()\u001b[0m\n\u001b[0;32m----> 1\u001b[0;31m \u001b[0;32mprint\u001b[0m \u001b[0;34m\"Number of iterations:\"\u001b[0m\u001b[0;34m,\u001b[0m\u001b[0mn\u001b[0m\u001b[0;34m\u001b[0m\u001b[0m\n\u001b[0m\u001b[1;32m      2\u001b[0m \u001b[0;32mprint\u001b[0m \u001b[0;34m\"Number of stars corrolated:\"\u001b[0m\u001b[0;34m,\u001b[0m\u001b[0mcorr\u001b[0m\u001b[0;34m\u001b[0m\u001b[0m\n",
      "\u001b[0;31mNameError\u001b[0m: name 'n' is not defined"
     ]
    }
   ],
   "source": [
    "print \"Number of iterations:\",n\n",
    "print \"Number of stars corrolated:\",corr"
   ]
  },
  {
   "cell_type": "code",
   "execution_count": 34,
   "metadata": {
    "collapsed": false
   },
   "outputs": [
    {
     "ename": "TypeError",
     "evalue": "'NoneType' object has no attribute '__getitem__'",
     "output_type": "error",
     "traceback": [
      "\u001b[0;31m---------------------------------------------------------------------------\u001b[0m",
      "\u001b[0;31mTypeError\u001b[0m                                 Traceback (most recent call last)",
      "\u001b[0;32m<ipython-input-34-cd2ef6f7f316>\u001b[0m in \u001b[0;36m<module>\u001b[0;34m()\u001b[0m\n\u001b[1;32m     11\u001b[0m \u001b[0;31m#Find image from SDSS:\u001b[0m\u001b[0;34m\u001b[0m\u001b[0;34m\u001b[0m\u001b[0m\n\u001b[1;32m     12\u001b[0m \u001b[0mimages\u001b[0m \u001b[0;34m=\u001b[0m \u001b[0mSDSS\u001b[0m\u001b[0;34m.\u001b[0m\u001b[0mget_images\u001b[0m\u001b[0;34m(\u001b[0m\u001b[0mpos\u001b[0m\u001b[0;34m)\u001b[0m\u001b[0;34m\u001b[0m\u001b[0m\n\u001b[0;32m---> 13\u001b[0;31m \u001b[0mCV\u001b[0m \u001b[0;34m=\u001b[0m \u001b[0maplpy\u001b[0m\u001b[0;34m.\u001b[0m\u001b[0mFITSFigure\u001b[0m\u001b[0;34m(\u001b[0m\u001b[0mimages\u001b[0m\u001b[0;34m[\u001b[0m\u001b[0;36m0\u001b[0m\u001b[0;34m]\u001b[0m\u001b[0;34m)\u001b[0m\u001b[0;34m\u001b[0m\u001b[0m\n\u001b[0m\u001b[1;32m     14\u001b[0m \u001b[0;34m\u001b[0m\u001b[0m\n\u001b[1;32m     15\u001b[0m \u001b[0;31m#Gives in grid and makes it grayscale (can also be made colorscale)\u001b[0m\u001b[0;34m\u001b[0m\u001b[0;34m\u001b[0m\u001b[0m\n",
      "\u001b[0;31mTypeError\u001b[0m: 'NoneType' object has no attribute '__getitem__'"
     ]
    }
   ],
   "source": [
    "#This finds an image of the star with the biggest fractional change\n",
    "\n",
    "#Which source to show:\n",
    "x=3\n",
    "\n",
    "#Coordinates of this star:\n",
    "pos=coord.SkyCoord(RA_Second_Relevant[x]*u.deg, DE_Second_Relevant[x]*u.deg)\n",
    "ra=np.array([RA_Second_Relevant[x]])\n",
    "de=np.array([DE_Second_Relevant[x]])\n",
    "\n",
    "#Find image from SDSS:\n",
    "images = SDSS.get_images(pos)\n",
    "CV = aplpy.FITSFigure(images[0])\n",
    "\n",
    "#Gives in grid and makes it grayscale (can also be made colorscale)\n",
    "CV.show_grayscale()\n",
    "CV.add_grid()\n",
    "\n",
    "#This plots a circle where the relevant source should be \n",
    "x_pix, y_pix = CV.world2pixel(ra,de)\n",
    "plt.scatter(x_pix, y_pix, s=100, c='red', alpha=.5)\n",
    "plt.show()"
   ]
  },
  {
   "cell_type": "code",
   "execution_count": null,
   "metadata": {
    "collapsed": true
   },
   "outputs": [],
   "source": []
  }
 ],
 "metadata": {
  "kernelspec": {
   "display_name": "Python 2",
   "language": "python",
   "name": "python2"
  },
  "language_info": {
   "codemirror_mode": {
    "name": "ipython",
    "version": 2
   },
   "file_extension": ".py",
   "mimetype": "text/x-python",
   "name": "python",
   "nbconvert_exporter": "python",
   "pygments_lexer": "ipython2",
   "version": "2.7.13"
  }
 },
 "nbformat": 4,
 "nbformat_minor": 0
}
