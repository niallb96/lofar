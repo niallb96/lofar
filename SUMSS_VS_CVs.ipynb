{
 "cells": [
  {
   "cell_type": "code",
   "execution_count": 1,
   "metadata": {
    "collapsed": false
   },
   "outputs": [
    {
     "name": "stderr",
     "output_type": "stream",
     "text": [
      "/Users/niallbradley/anaconda/lib/python2.7/site-packages/astroquery/sdss/__init__.py:29: UserWarning: Experimental: SDSS has not yet been refactored to have its API match the rest of astroquery (but it's nearly there).\n",
      "  warnings.warn(\"Experimental: SDSS has not yet been refactored to have its API \"\n"
     ]
    }
   ],
   "source": [
    "import matplotlib.pyplot as plt \n",
    "import numpy as np\n",
    "import matplotlib\n",
    "import astropy.units as u\n",
    "import astropy.coordinates as coord\n",
    "from astroquery.vizier import Vizier\n",
    "%matplotlib inline\n",
    "from astropy.io import fits\n",
    "from astroquery.simbad import Simbad\n",
    "import matplotlib\n",
    "import aplpy\n",
    "from astroquery.sdss import SDSS\n",
    "from astropy.coordinates import Angle\n",
    "from array import array\n",
    "from wcsaxes import SphericalCircle\n",
    "from astropy.table import Table"
   ]
  },
  {
   "cell_type": "code",
   "execution_count": 2,
   "metadata": {
    "collapsed": false
   },
   "outputs": [],
   "source": [
    "#Region of Sky:\n",
    "\n",
    "RA=180.0\n",
    "DE=-60.0\n",
    "RA_length=180.0\n",
    "DE_length=30.0\n",
    "\n",
    "#Catalogues:\n",
    "\n",
    "First_Catalogue_Name='SUMSS'\n",
    "Second_Catalogue_Name='Downes+ 2001-2006'"
   ]
  },
  {
   "cell_type": "code",
   "execution_count": 3,
   "metadata": {
    "collapsed": false
   },
   "outputs": [],
   "source": [
    "# First_Catalogue_Data= Table.read(First_Catalogue_Name+'.fit', format='fits')\n",
    "# #print First_Catalogue_Data\n",
    "\n",
    "# Second_Catalogue_Data= Table.read('Downes.fit', format='fits')\n",
    "# #print Second_Catalogue_Data"
   ]
  },
  {
   "cell_type": "code",
   "execution_count": 4,
   "metadata": {
    "collapsed": false
   },
   "outputs": [],
   "source": [
    "# #First Catalogue:\n",
    "\n",
    "# #Making array of coords\n",
    "\n",
    "# RA_First=[]\n",
    "# for value in First_Catalogue_Data[\"_RAJ2000\"]:\n",
    "#     RA_First.append(value)\n",
    "# #print len(RA_First)\n",
    "# DE_First=[]\n",
    "# for value in First_Catalogue_Data[\"_DEJ2000\"]:\n",
    "#     DE_First.append(value)\n",
    "# #print len(DE_First)\n",
    "\n",
    "# #Error arrays:\n",
    "\n",
    "# RA_First_e=[]\n",
    "# for value in First_Catalogue_Data[\"e_RAJ2000\"]:\n",
    "#     RA_First_e.append(value/3600)\n",
    "# #print RA_First_e\n",
    "# DE_First_e=[]\n",
    "# for value in First_Catalogue_Data[\"e_RAJ2000\"]:\n",
    "#     DE_First_e.append(value/3600)\n",
    "# #print DE_First_e\n",
    "\n",
    "# #Second Catalogue\n",
    "\n",
    "# #Making array of coords\n",
    "\n",
    "# RA_Second=[]\n",
    "# n=0\n",
    "# while n<len(Second_Catalogue_Data[\"_RAJ2000\"]):\n",
    "#     if Second_Catalogue_Data['VarType'][n] != \"non-CV\":\n",
    "#         RA_Second.append(Second_Catalogue_Data[\"_RAJ2000\"][n])\n",
    "#     n=n+1\n",
    "# #print len(RA_Second)\n",
    "\n",
    "# DE_Second=[]\n",
    "# n=0\n",
    "# while n<len(Second_Catalogue_Data[\"_DEJ2000\"]):\n",
    "#     if Second_Catalogue_Data['VarType'][n] != \"non-CV\":\n",
    "#         DE_Second.append(Second_Catalogue_Data[\"_DEJ2000\"][n])\n",
    "#     n=n+1\n",
    "# #print len(RA_Second)"
   ]
  },
  {
   "cell_type": "code",
   "execution_count": 5,
   "metadata": {
    "collapsed": true
   },
   "outputs": [],
   "source": [
    "# #Getting data from first catalogue\n",
    "\n",
    "# Vizier.ROW_LIMIT = -1\n",
    "# First_Catalog_List = Vizier.find_catalogs(First_Catalogue_Name)\n",
    "# First_Catalogs = Vizier.get_catalogs(First_Catalog_List.keys())\n",
    "# First_Catalogue_Data=First_Catalogs[0]\n",
    "\n",
    "\n",
    "# #Getting data from second catalogue\n",
    "\n",
    "# Second_Catalog_List = Vizier.find_catalogs(Second_Catalogue_Name)\n",
    "# Second_Catalogs = Vizier.get_catalogs(Second_Catalog_List.keys())\n",
    "# Second_Catalogue_Data=Second_Catalogs[0]"
   ]
  },
  {
   "cell_type": "code",
   "execution_count": 6,
   "metadata": {
    "collapsed": false
   },
   "outputs": [],
   "source": [
    "#First Catalogue:\n",
    "\n",
    "#Making array of coords\n",
    "n=0\n",
    "RA_First=[]\n",
    "DE_First=[]\n",
    "Lum_First=[]\n",
    "RA_First_e=[]\n",
    "DE_First_e=[]\n",
    "Lum_First_e=[]\n",
    "while n< len(First_Catalogue_Data):\n",
    "    if RA-RA_length<First_Catalogue_Data[\"_RAJ2000\"][n] and First_Catalogue_Data[\"_RAJ2000\"][n]<RA+RA_length and DE-DE_length<First_Catalogue_Data[\"_DEJ2000\"][n] and First_Catalogue_Data[\"_DEJ2000\"][n]<DE+DE_length:\n",
    "        RA_First.append(First_Catalogue_Data[\"_RAJ2000\"][n])\n",
    "        DE_First.append(First_Catalogue_Data[\"_DEJ2000\"][n])\n",
    "        RA_First_e.append(First_Catalogue_Data[\"e_RAJ2000\"][n]/3600)\n",
    "        DE_First_e.append(First_Catalogue_Data[\"e_DEJ2000\"][n]/3600)\n",
    "    n=n+1\n",
    "#print len(DE_First)\n",
    "\n",
    "n=0\n",
    "RA_Second=[]\n",
    "DE_Second=[]\n",
    "Lum_Second=[]\n",
    "RA_Second_e=[]\n",
    "DE_Second_e=[]\n",
    "Lum_Second_e=[]\n",
    "while n< len(Second_Catalogue_Data):\n",
    "    if Second_Catalogue_Data['VarType'][n] != \"non-CV\":\n",
    "        if RA-RA_length<Second_Catalogue_Data[\"_RAJ2000\"][n] and Second_Catalogue_Data[\"_RAJ2000\"][n]<RA+RA_length and DE-DE_length<Second_Catalogue_Data[\"_DEJ2000\"][n] and Second_Catalogue_Data[\"_DEJ2000\"][n]<DE+DE_length:\n",
    "            RA_Second.append(Second_Catalogue_Data[\"_RAJ2000\"][n])\n",
    "            DE_Second.append(Second_Catalogue_Data[\"_DEJ2000\"][n])\n",
    "    n=n+1\n",
    "#print len(DE_Second)"
   ]
  },
  {
   "cell_type": "code",
   "execution_count": 7,
   "metadata": {
    "collapsed": false
   },
   "outputs": [
    {
     "name": "stderr",
     "output_type": "stream",
     "text": [
      "/Users/niallbradley/anaconda/lib/python2.7/site-packages/matplotlib/collections.py:590: FutureWarning: elementwise comparison failed; returning scalar instead, but in the future will perform elementwise comparison\n",
      "  if self._edgecolors == str('face'):\n"
     ]
    },
    {
     "data": {
      "image/png": "[encoded data removed]",
      "text/plain": [
       "<matplotlib.figure.Figure at 0x1117feb10>"
      ]
     },
     "metadata": {},
     "output_type": "display_data"
    }
   ],
   "source": [
    "#Plotting coords of two arrays to compare\n",
    "\n",
    "fig = plt.figure()\n",
    "ax1 = fig.add_subplot(111)\n",
    "ax1.scatter(RA_First, DE_First, s=10, c='b', marker=\"s\", label=First_Catalogue_Name)\n",
    "ax1.scatter(RA_Second,DE_Second, s=10, c='r', marker=\"o\", label=Second_Catalogue_Name)\n",
    "plt.legend(loc='upper left');\n",
    "plt.show()"
   ]
  },
  {
   "cell_type": "code",
   "execution_count": 8,
   "metadata": {
    "collapsed": false
   },
   "outputs": [],
   "source": [
    "#Finding data for all the stars that overlap\n",
    "\n",
    "#Set CV error:\n",
    "Second_e=36.0/3600.0\n",
    "\n",
    "RA_First_Relevant=[]\n",
    "RA_Second_Relevant=[]\n",
    "DE_First_Relevant=[]\n",
    "DE_Second_Relevant=[]\n",
    "f=0\n",
    "s=0\n",
    "n=0\n",
    "corr=0\n",
    "#While loop goes through all of first catalogue..\n",
    "while f<len(RA_First):\n",
    "    #If it compares a source in first catalogue to every source in second without finding one in common then..\n",
    "    if s>=len(RA_Second):\n",
    "        #It moves on to next source in first and..\n",
    "        f=f+1\n",
    "        #Starts comparing it to the first source in the second catalogue\n",
    "        s=0\n",
    "    #This is a formula for overlapping circles with the radii being the error\n",
    "    #If this is true catalogues have that star in common\n",
    "    elif RA_First_e[f]+Second_e>= abs(RA_First[f]-RA_Second[s]) and DE_First_e[f]+Second_e>= abs(DE_First[f]-DE_Second[s]):\n",
    "        #print coords and luminosity\n",
    "        print corr+1,\":\"\n",
    "        print First_Catalogue_Name,\" Coords: (\",RA_First[f],\",\",DE_First[f],\")\"\n",
    "        print Second_Catalogue_Name,\" Coords: (\",RA_Second[s],\",\",DE_Second[s],\")\"\n",
    "        print \"\"\n",
    "        #Making arrays of coordinates of sources in common \n",
    "        RA_First_Relevant.append(RA_First[s])\n",
    "        RA_Second_Relevant.append(RA_Second[s])\n",
    "        DE_First_Relevant.append(DE_First[s])\n",
    "        DE_Second_Relevant.append(DE_Second[s])\n",
    "        \n",
    "        #Move onto next source in first catalogue\n",
    "        f=f+1\n",
    "        #Starts comparing it to the first source in the second catalogue\n",
    "        s=0\n",
    "        #Number of common sources increased\n",
    "        corr=corr+1\n",
    "    #If neither of these are true then..\n",
    "    else:\n",
    "        #Try next source in second catalogue\n",
    "        s=s+1\n",
    "    #Before going onto next loop increase number of iterations\n",
    "    n=n+1"
   ]
  },
  {
   "cell_type": "code",
   "execution_count": 9,
   "metadata": {
    "collapsed": false
   },
   "outputs": [
    {
     "name": "stdout",
     "output_type": "stream",
     "text": [
      "Number of iterations: 84704555\n",
      "Number of stars corrolated: 0\n"
     ]
    }
   ],
   "source": [
    "print \"Number of iterations:\",n\n",
    "print \"Number of stars corrolated:\",corr"
   ]
  },
  {
   "cell_type": "code",
   "execution_count": 10,
   "metadata": {
    "collapsed": false
   },
   "outputs": [
    {
     "ename": "IndexError",
     "evalue": "list index out of range",
     "output_type": "error",
     "traceback": [
      "\u001b[0;31m---------------------------------------------------------------------------\u001b[0m",
      "\u001b[0;31mIndexError\u001b[0m                                Traceback (most recent call last)",
      "\u001b[0;32m<ipython-input-10-09209181d0b7>\u001b[0m in \u001b[0;36m<module>\u001b[0;34m()\u001b[0m\n\u001b[1;32m      5\u001b[0m \u001b[0;34m\u001b[0m\u001b[0m\n\u001b[1;32m      6\u001b[0m \u001b[0;31m#Coordinates of this star:\u001b[0m\u001b[0;34m\u001b[0m\u001b[0;34m\u001b[0m\u001b[0m\n\u001b[0;32m----> 7\u001b[0;31m \u001b[0mpos\u001b[0m\u001b[0;34m=\u001b[0m\u001b[0mcoord\u001b[0m\u001b[0;34m.\u001b[0m\u001b[0mSkyCoord\u001b[0m\u001b[0;34m(\u001b[0m\u001b[0mRA_Second_Relevant\u001b[0m\u001b[0;34m[\u001b[0m\u001b[0mn\u001b[0m\u001b[0;34m]\u001b[0m\u001b[0;34m*\u001b[0m\u001b[0mu\u001b[0m\u001b[0;34m.\u001b[0m\u001b[0mdeg\u001b[0m\u001b[0;34m,\u001b[0m \u001b[0mDE_Second_Relevant\u001b[0m\u001b[0;34m[\u001b[0m\u001b[0mn\u001b[0m\u001b[0;34m]\u001b[0m\u001b[0;34m*\u001b[0m\u001b[0mu\u001b[0m\u001b[0;34m.\u001b[0m\u001b[0mdeg\u001b[0m\u001b[0;34m)\u001b[0m\u001b[0;34m\u001b[0m\u001b[0m\n\u001b[0m\u001b[1;32m      8\u001b[0m \u001b[0mra\u001b[0m\u001b[0;34m=\u001b[0m\u001b[0mnp\u001b[0m\u001b[0;34m.\u001b[0m\u001b[0marray\u001b[0m\u001b[0;34m(\u001b[0m\u001b[0;34m[\u001b[0m\u001b[0mRA_Second_Relevant\u001b[0m\u001b[0;34m[\u001b[0m\u001b[0mn\u001b[0m\u001b[0;34m]\u001b[0m\u001b[0;34m]\u001b[0m\u001b[0;34m)\u001b[0m\u001b[0;34m\u001b[0m\u001b[0m\n\u001b[1;32m      9\u001b[0m \u001b[0mde\u001b[0m\u001b[0;34m=\u001b[0m\u001b[0mnp\u001b[0m\u001b[0;34m.\u001b[0m\u001b[0marray\u001b[0m\u001b[0;34m(\u001b[0m\u001b[0;34m[\u001b[0m\u001b[0mDE_Second_Relevant\u001b[0m\u001b[0;34m[\u001b[0m\u001b[0mn\u001b[0m\u001b[0;34m]\u001b[0m\u001b[0;34m]\u001b[0m\u001b[0;34m)\u001b[0m\u001b[0;34m\u001b[0m\u001b[0m\n",
      "\u001b[0;31mIndexError\u001b[0m: list index out of range"
     ]
    }
   ],
   "source": [
    "#This finds an image of the star with the biggest fractional change\n",
    "\n",
    "#Which source to show:\n",
    "n=0\n",
    "\n",
    "#Coordinates of this star:\n",
    "pos=coord.SkyCoord(RA_Second_Relevant[n]*u.deg, DE_Second_Relevant[n]*u.deg)\n",
    "ra=np.array([RA_Second_Relevant[n]])\n",
    "de=np.array([DE_Second_Relevant[n]])\n",
    "\n",
    "#Find image from SDSS:\n",
    "images = SDSS.get_images(pos)\n",
    "CV = aplpy.FITSFigure(images[0])\n",
    "\n",
    "#Gives in grid and makes it grayscale (can also be made colorscale)\n",
    "CV.show_grayscale()\n",
    "CV.add_grid()\n",
    "\n",
    "#This plots a circle where the relevant source should be \n",
    "x_pix, y_pix = CV.world2pixel(ra,de)\n",
    "plt.scatter(x_pix, y_pix, s=100, c='red', alpha=.5)\n",
    "plt.show()"
   ]
  },
  {
   "cell_type": "code",
   "execution_count": null,
   "metadata": {
    "collapsed": true
   },
   "outputs": [],
   "source": []
  }
 ],
 "metadata": {
  "kernelspec": {
   "display_name": "Python 2",
   "language": "python",
   "name": "python2"
  },
  "language_info": {
   "codemirror_mode": {
    "name": "ipython",
    "version": 2
   },
   "file_extension": ".py",
   "mimetype": "text/x-python",
   "name": "python",
   "nbconvert_exporter": "python",
   "pygments_lexer": "ipython2",
   "version": "2.7.13"
  }
 },
 "nbformat": 4,
 "nbformat_minor": 0
}
