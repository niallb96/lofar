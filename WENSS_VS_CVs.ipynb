{
 "cells": [
  {
   "cell_type": "code",
   "execution_count": 1,
   "metadata": {
    "collapsed": false
   },
   "outputs": [
    {
     "name": "stderr",
     "output_type": "stream",
     "text": [
      "/Users/niallbradley/anaconda/lib/python2.7/site-packages/astroquery/sdss/__init__.py:29: UserWarning: Experimental: SDSS has not yet been refactored to have its API match the rest of astroquery (but it's nearly there).\n",
      "  warnings.warn(\"Experimental: SDSS has not yet been refactored to have its API \"\n"
     ]
    }
   ],
   "source": [
    "import matplotlib.pyplot as plt \n",
    "import numpy as np\n",
    "import matplotlib\n",
    "import astropy.units as u\n",
    "import astropy.coordinates as coord\n",
    "from astroquery.vizier import Vizier\n",
    "%matplotlib inline\n",
    "from astropy.io import fits\n",
    "from astroquery.simbad import Simbad\n",
    "import matplotlib\n",
    "import aplpy\n",
    "from astroquery.sdss import SDSS\n",
    "from astropy.coordinates import Angle\n",
    "from array import array\n",
    "from wcsaxes import SphericalCircle\n",
    "from astropy.table import Table"
   ]
  },
  {
   "cell_type": "code",
   "execution_count": 2,
   "metadata": {
    "collapsed": false
   },
   "outputs": [],
   "source": [
    "#Region of Sky:\n",
    "\n",
    "RA=166.1907\n",
    "DE=46.42053\n",
    "Radius=100\n",
    "\n",
    "#Catalogues:\n",
    "\n",
    "First_Catalogue_Name='WENSS'\n",
    "Second_Catalogue_Name='Downes+ 2001-2006'"
   ]
  },
  {
   "cell_type": "code",
   "execution_count": 3,
   "metadata": {
    "collapsed": false
   },
   "outputs": [],
   "source": [
    "First_Catalogue_Data= Table.read(First_Catalogue_Name+'.fit', format='fits')\n",
    "#print First_Catalogue_Data\n",
    "\n",
    "Second_Catalogue_Data= Table.read('Downes.fit', format='fits')\n",
    "#print Second_Catalogue_Data"
   ]
  },
  {
   "cell_type": "code",
   "execution_count": 4,
   "metadata": {
    "collapsed": false
   },
   "outputs": [
    {
     "name": "stdout",
     "output_type": "stream",
     "text": [
      "   _RAJ2000       _DEJ2000       Name     f_Name ... Sint MajAxis MinAxis  PA\n",
      "     deg            deg                          ... mJy   arcsec  arcsec deg\n",
      "-------------- ------------- ------------ ------ ... ---- ------- ------- ---\n",
      "0.649458333333      74.87725 B0000.0+7435        ...  109       0       0   0\n",
      "0.647333333333 63.7016388889 B0000.0+6325        ...  131      69      53  32\n",
      "      0.649875 67.9070277778 B0000.0+6737        ...   29       0       0   0\n",
      "       0.64725 38.6383055556 B0000.0+3821        ...   43       0       0   0\n",
      "0.648416666667 52.9314166667 B0000.0+5239        ...   93       0       0   0\n",
      "      0.649625 60.5394166667 B0000.0+6015        ...   24       0       0   0\n",
      "      0.649875 32.4079722222 B0000.0+3207      a ...   28       0       0   0\n",
      "0.653166666667 32.4040833333 B0000.0+3207      b ...   20       0       0   0\n",
      "0.655833333333 50.3712222222 B0000.0+5005        ...   17       0       0   0\n",
      "0.657583333333 61.0408888889 B0000.0+6045        ...   30       0       0   0\n",
      "           ...           ...          ...    ... ...  ...     ...     ... ...\n",
      "      0.486375 80.2366111111 B2359.3+7957        ...   14       0       0   0\n",
      "0.526458333333 79.3234722222 B2359.5+7902        ...  237       0       0   0\n",
      "0.535416666667 80.8320555556 B2359.5+8033        ...  115       0       0   0\n",
      "0.554166666667 79.8936666667 B2359.6+7936        ...  280       0       0   0\n",
      "0.564958333333 79.5305277778 B2359.6+7915        ...   15       0       0   0\n",
      "0.605583333333 78.8696944444 B2359.8+7835        ...  388       0       0   0\n",
      "0.612083333333 81.8718611111 B2359.8+8135        ...   41       0       0   0\n",
      "0.628333333333 75.4965277778 B2359.9+7513        ...   17       0       0   0\n",
      "0.640291666667      83.30675 B2359.9+8301        ...   56      78      55 139\n",
      "      0.646375 83.4637222222 B2359.9+8311        ...   14       0       0   0\n",
      "Length = 229420 rows\n"
     ]
    }
   ],
   "source": [
    "print First_Catalogue_Data"
   ]
  },
  {
   "cell_type": "code",
   "execution_count": 55,
   "metadata": {
    "collapsed": false
   },
   "outputs": [],
   "source": [
    "#First Catalogue:\n",
    "\n",
    "#Making array of coords\n",
    "\n",
    "RA_First=[]\n",
    "for value in First_Catalogue_Data[\"_RAJ2000\"]:\n",
    "    RA_First.append(value)\n",
    "#print len(RA_First)\n",
    "DE_First=[]\n",
    "for value in First_Catalogue_Data[\"_DEJ2000\"]:\n",
    "    DE_First.append(value)\n",
    "#print len(DE_First)\n",
    "\n",
    "#Error arrays:\n",
    "\n",
    "RA_First_e=[]\n",
    "for value in First_Catalogue_Data[\"e_RAdegtot\"]:\n",
    "    RA_First_e.append(value/3600)\n",
    "#print RA_First_e\n",
    "DE_First_e=[]\n",
    "for value in First_Catalogue_Data[\"e_DEdegtot\"]:\n",
    "    DE_First_e.append(value/3600)\n",
    "#print DE_First_e\n",
    "\n",
    "#Second Catalogue\n",
    "\n",
    "#Making array of coords\n",
    "\n",
    "RA_Second=[]\n",
    "n=0\n",
    "while n<len(Second_Catalogue_Data[\"_RAJ2000\"]):\n",
    "    if Second_Catalogue_Data['VarType'][n] != \"non-CV\":\n",
    "        RA_Second.append(Second_Catalogue_Data[\"_RAJ2000\"][n])\n",
    "    n=n+1\n",
    "#print len(RA_Second)\n",
    "\n",
    "DE_Second=[]\n",
    "n=0\n",
    "while n<len(Second_Catalogue_Data[\"_DEJ2000\"]):\n",
    "    if Second_Catalogue_Data['VarType'][n] != \"non-CV\":\n",
    "        DE_Second.append(Second_Catalogue_Data[\"_DEJ2000\"][n])\n",
    "    n=n+1\n",
    "#print len(RA_Second)"
   ]
  },
  {
   "cell_type": "code",
   "execution_count": 34,
   "metadata": {
    "collapsed": true
   },
   "outputs": [],
   "source": [
    "# #Getting data from first catalogue\n",
    "\n",
    "# Vizier.ROW_LIMIT = -1\n",
    "# First_Catalog_List = Vizier.find_catalogs(First_Catalogue_Name)\n",
    "# First_Catalogs = Vizier.get_catalogs(First_Catalog_List.keys())\n",
    "# First_Catalogue_Data=First_Catalogs[0]\n",
    "\n",
    "\n",
    "# #Getting data from second catalogue\n",
    "\n",
    "# Second_Catalog_List = Vizier.find_catalogs(Second_Catalogue_Name)\n",
    "# Second_Catalogs = Vizier.get_catalogs(Second_Catalog_List.keys())\n",
    "# Second_Catalogue_Data=Second_Catalogs[0]"
   ]
  },
  {
   "cell_type": "code",
   "execution_count": 35,
   "metadata": {
    "collapsed": false
   },
   "outputs": [],
   "source": [
    "# #First Catalogue:\n",
    "\n",
    "# #Making array of coords\n",
    "# n=0\n",
    "# RA_First=[]\n",
    "# DE_First=[]\n",
    "# Lum_First=[]\n",
    "# RA_First_e=[]\n",
    "# DE_First_e=[]\n",
    "# Lum_First_e=[]\n",
    "# while n< len(First_Catalogue_Data):\n",
    "#     if RA-Radius<First_Catalogue_Data[\"_RAJ2000\"][n] and First_Catalogue_Data[\"_RAJ2000\"][n]<RA+Radius and DE-Radius<First_Catalogue_Data[\"_DEJ2000\"][n] and First_Catalogue_Data[\"_DEJ2000\"][n]<DE+Radius:\n",
    "#         RA_First.append(First_Catalogue_Data[\"_RAJ2000\"][n])\n",
    "#         DE_First.append(First_Catalogue_Data[\"_DEJ2000\"][n])\n",
    "#         RA_First_e.append(First_Catalogue_Data[\"e_RAdegtot\"][n]/3600)\n",
    "#         DE_First_e.append(First_Catalogue_Data[\"e_DEdegtot\"][n]/3600)\n",
    "#     n=n+1\n",
    "# #print len(DE_First)\n",
    "\n",
    "# n=0\n",
    "# RA_Second=[]\n",
    "# DE_Second=[]\n",
    "# Lum_Second=[]\n",
    "# RA_Second_e=[]\n",
    "# DE_Second_e=[]\n",
    "# Lum_Second_e=[]\n",
    "# while n< len(Second_Catalogue_Data):\n",
    "#     if Second_Catalogue_Data['VarType'][n] != \"non-CV\":\n",
    "#         if RA-Radius<Second_Catalogue_Data[\"_RAJ2000\"][n] and Second_Catalogue_Data[\"_RAJ2000\"][n]<RA+Radius and DE-Radius<Second_Catalogue_Data[\"_DEJ2000\"][n] and Second_Catalogue_Data[\"_DEJ2000\"][n]<DE+Radius:\n",
    "#             RA_Second.append(Second_Catalogue_Data[\"_RAJ2000\"][n])\n",
    "#             DE_Second.append(Second_Catalogue_Data[\"_DEJ2000\"][n])\n",
    "#     n=n+1\n",
    "# #print len(DE_Second)"
   ]
  },
  {
   "cell_type": "code",
   "execution_count": 36,
   "metadata": {
    "collapsed": false
   },
   "outputs": [
    {
     "data": {
      "image/png": "[encoded data removed]",
      "text/plain": [
       "<matplotlib.figure.Figure at 0x1109880d0>"
      ]
     },
     "metadata": {},
     "output_type": "display_data"
    }
   ],
   "source": [
    "#Plotting coords of two arrays to compare\n",
    "\n",
    "fig = plt.figure()\n",
    "ax1 = fig.add_subplot(111)\n",
    "ax1.scatter(RA_First, DE_First, s=10, c='b', marker=\"s\", label=First_Catalogue_Name)\n",
    "ax1.scatter(RA_Second,DE_Second, s=10, c='r', marker=\"o\", label=Second_Catalogue_Name)\n",
    "plt.legend(loc='upper left');\n",
    "plt.show()"
   ]
  },
  {
   "cell_type": "code",
   "execution_count": 39,
   "metadata": {
    "collapsed": false
   },
   "outputs": [],
   "source": [
    "#Finding data for all the stars that overlap\n",
    "\n",
    "#Set CV error:\n",
    "Second_e=1.0/3600.0\n",
    "\n",
    "RA_First_Relevant=[]\n",
    "RA_Second_Relevant=[]\n",
    "DE_First_Relevant=[]\n",
    "DE_Second_Relevant=[]\n",
    "f=0\n",
    "s=0\n",
    "n=0\n",
    "corr=0\n",
    "#While loop goes through all of first catalogue..\n",
    "while f<len(RA_First):\n",
    "    #If it compares a source in first catalogue to every source in second without finding one in common then..\n",
    "    if s>=len(RA_Second):\n",
    "        #It moves on to next source in first and..\n",
    "        f=f+1\n",
    "        #Starts comparing it to the first source in the second catalogue\n",
    "        s=0\n",
    "    #This is a formula for overlapping circles with the radii being the error\n",
    "    #If this is true catalogues have that star in common\n",
    "    elif RA_First_e[f]+Second_e>= abs(RA_First[f]-RA_Second[s]) and DE_First_e[f]+Second_e>= abs(DE_First[f]-DE_Second[s]):\n",
    "        #print coords and luminosity\n",
    "        print corr+1,\":\"\n",
    "        print First_Catalogue_Name,\" Coords: (\",RA_First[f],\",\",DE_First[f],\")\"\n",
    "        print Second_Catalogue_Name,\" Coords: (\",RA_Second[s],\",\",DE_Second[s],\")\"\n",
    "        print \"\"\n",
    "        #Making arrays of coordinates of sources in common \n",
    "        RA_First_Relevant.append(RA_First[s])\n",
    "        RA_Second_Relevant.append(RA_Second[s])\n",
    "        DE_First_Relevant.append(DE_First[s])\n",
    "        DE_Second_Relevant.append(DE_Second[s])\n",
    "        \n",
    "        #Move onto next source in first catalogue\n",
    "        f=f+1\n",
    "        #Starts comparing it to the first source in the second catalogue\n",
    "        s=0\n",
    "        #Number of common sources increased\n",
    "        corr=corr+1\n",
    "    #If neither of these are true then..\n",
    "    else:\n",
    "        #Try next source in second catalogue\n",
    "        s=s+1\n",
    "    #Before going onto next loop increase number of iterations\n",
    "    n=n+1"
   ]
  },
  {
   "cell_type": "code",
   "execution_count": 40,
   "metadata": {
    "collapsed": false
   },
   "outputs": [
    {
     "name": "stdout",
     "output_type": "stream",
     "text": [
      "Number of iterations: 81479500\n",
      "Number of stars corrolated: 0\n"
     ]
    }
   ],
   "source": [
    "print \"Number of iterations:\",n\n",
    "print \"Number of stars corrolated:\",corr"
   ]
  },
  {
   "cell_type": "code",
   "execution_count": 29,
   "metadata": {
    "collapsed": true
   },
   "outputs": [],
   "source": [
    "#This finds an image of the star with the biggest fractional change\n",
    "\n",
    "#Which source to show:\n",
    "n=0\n",
    "\n",
    "#Coordinates of this star:\n",
    "pos=coord.SkyCoord(RA_Second_Relevant[n]*u.deg, DE_Second_Relevant[n]*u.deg)\n",
    "ra=np.array([RA_Second_Relevant[n]])\n",
    "de=np.array([DE_Second_Relevant[n]])\n",
    "\n",
    "#Find image from SDSS:\n",
    "images = SDSS.get_images(pos)\n",
    "CV = aplpy.FITSFigure(images[0])\n",
    "\n",
    "#Gives in grid and makes it grayscale (can also be made colorscale)\n",
    "CV.show_grayscale()\n",
    "CV.add_grid()\n",
    "\n",
    "#This plots a circle where the relevant source should be \n",
    "x_pix, y_pix = CV.world2pixel(ra,de)\n",
    "plt.scatter(x_pix, y_pix, s=100, c='red', alpha=.5)\n",
    "plt.show()"
   ]
  },
  {
   "cell_type": "code",
   "execution_count": null,
   "metadata": {
    "collapsed": true
   },
   "outputs": [],
   "source": []
  }
 ],
 "metadata": {
  "kernelspec": {
   "display_name": "Python 2",
   "language": "python",
   "name": "python2"
  },
  "language_info": {
   "codemirror_mode": {
    "name": "ipython",
    "version": 2
   },
   "file_extension": ".py",
   "mimetype": "text/x-python",
   "name": "python",
   "nbconvert_exporter": "python",
   "pygments_lexer": "ipython2",
   "version": "2.7.13"
  }
 },
 "nbformat": 4,
 "nbformat_minor": 0
}
